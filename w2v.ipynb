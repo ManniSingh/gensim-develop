{
 "cells": [
  {
   "cell_type": "code",
   "execution_count": 1,
   "id": "1cbcdf7b-316e-4039-b659-e6f7d1dd04fe",
   "metadata": {},
   "outputs": [],
   "source": [
    "#import gensim.utils as util\n",
    "#util.test_local()\n",
    "\n",
    "from gensim.models import Word2Vec\n",
    "import logging\n",
    "import os\n",
    "from tqdm import tqdm\n",
    "import sys\n",
    "import json\n",
    "\n",
    "from gensim import downloader\n",
    "text8 = downloader.load('text8')"
   ]
  },
  {
   "cell_type": "code",
   "execution_count": 2,
   "id": "852f3ee2-a1e7-4e72-9189-84990b33b6e2",
   "metadata": {},
   "outputs": [],
   "source": [
    "# Initialize and train the Word2Vec model\n",
    "model = Word2Vec(sentences=text8, shrink_windows=True, sg=1, vector_size=300, window=5, min_count=3, workers=os.cpu_count())"
   ]
  },
  {
   "cell_type": "code",
   "execution_count": 3,
   "id": "abe0e775-2f1e-4dfc-8b2a-d5d406639fee",
   "metadata": {},
   "outputs": [
    {
     "name": "stderr",
     "output_type": "stream",
     "text": [
      "100%|██████████| 100038/100038 [00:19<00:00, 5163.19it/s]\n"
     ]
    }
   ],
   "source": [
    "# Save the trained model\n",
    "vocab = model.wv.key_to_index\n",
    "emb_file = '/home/manni/embs/w2v_en_text8_mc3_epoch5_300.txt'\n",
    "logging.info('Save trained word vectors')\n",
    "with open(emb_file, 'w', encoding='utf-8') as f:\n",
    "    f.write('%d %d\\n' % (len(vocab), 300)) \n",
    "    for word in tqdm(vocab, position=0):\n",
    "        f.write('%s %s\\n' % (word, ' '.join([str(v) for v in model.wv[word]])))\n",
    "logging.info('Done')"
   ]
  },
  {
   "cell_type": "code",
   "execution_count": 4,
   "id": "19a6eba6-89f3-4182-8a9a-d81cccd04226",
   "metadata": {},
   "outputs": [
    {
     "name": "stdout",
     "output_type": "stream",
     "text": [
      "/home/manni/embs/w2v_en_text8_mc3_epoch5_300.txt\n"
     ]
    }
   ],
   "source": [
    "print(emb_file)"
   ]
  },
  {
   "cell_type": "code",
   "execution_count": null,
   "id": "1f9cfac7-1013-42e7-817a-837cfee6b54e",
   "metadata": {},
   "outputs": [],
   "source": []
  }
 ],
 "metadata": {
  "kernelspec": {
   "display_name": "embs",
   "language": "python",
   "name": "embs"
  },
  "language_info": {
   "codemirror_mode": {
    "name": "ipython",
    "version": 3
   },
   "file_extension": ".py",
   "mimetype": "text/x-python",
   "name": "python",
   "nbconvert_exporter": "python",
   "pygments_lexer": "ipython3",
   "version": "3.10.12"
  }
 },
 "nbformat": 4,
 "nbformat_minor": 5
}
